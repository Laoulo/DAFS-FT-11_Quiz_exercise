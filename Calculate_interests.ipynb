{
  "cells": [
    {
      "cell_type": "markdown",
      "metadata": {
        "colab_type": "text",
        "id": "1NCGks54kp_n"
      },
      "source": [
        "# How much do you get for your savings ?"
      ]
    },
    {
      "cell_type": "markdown",
      "metadata": {
        "colab_type": "text",
        "id": "75Xe4f7vksGZ"
      },
      "source": [
        "It is said that if Christopher Columbus had set aside €1 that he had left at 2% interest per year, today his heirs would no longer need to work to live their lives. Let's try to calculate the same thing for our savings. "
      ]
    },
    {
      "cell_type": "markdown",
      "metadata": {
        "colab_type": "text",
        "id": "v4ugjwIakv2c"
      },
      "source": [
        "1. So let's create a function that will allow us to know how much money a user will have in total after a certain number of years.\n",
        "\n",
        "2. The user should be able to call the function which will then ask for :\n",
        "\n",
        "    1. The total amount he wishes to place\n",
        "    2. The number of years he wants to invest his money for\n",
        "    3. The rate of interest to which he is entitled\n",
        "    \n",
        "3. Pay attention to the errors that the user may enter.\n",
        "\n",
        "    4. If he enters a string of characters rather than a number, an error should be displayed.\n",
        "    5. If the user enters negative numbers, an error should also be output.\n",
        "    6. Finally, it is very likely that the user will write the interest rate as a percentage (e.g. 10%). Raise an error if this is the case, to prevent him from inputting a percentage.\n",
        "    \n",
        "4. Finally, the program should only show one number with a maximum of two digits after the decimal point.\n"
      ]
    },
    {
      "cell_type": "code",
      "execution_count": 2,
      "metadata": {},
      "outputs": [],
      "source": [
        "# Function for calculation of compound interest\n",
        "\n",
        "def int_calc(amount, years, rate):\n",
        "    for _ in range(years):\n",
        "        amount *= (1 + rate)\n",
        "    return amount\n",
        "# Function for user input and calculation of return amount\n",
        "\n",
        "def start():\n",
        "    while True :\n",
        "        try:\n",
        "            amount = float(input('What is the amount you want to invest?'))\n",
        "        except ValueError:\n",
        "            print('Please enter a number.')\n",
        "        else:\n",
        "            if amount >= 0:\n",
        "                break\n",
        "            else:\n",
        "                print('The amount must be a positive number.')\n",
        "\n",
        "    while True :\n",
        "        try:\n",
        "            years = int(input('What is the duration of your investment?'))\n",
        "        except ValueError:\n",
        "            print('Please enter a number.')\n",
        "        else:\n",
        "            if years > 0:\n",
        "                break\n",
        "            else:\n",
        "                print('The amount must be a positive number.')\n",
        "\n",
        "    while True :\n",
        "        try:\n",
        "            rate = float(input('What is the interest rate?'))\n",
        "        except ValueError:\n",
        "            print('Please enter a number.')\n",
        "        else:    \n",
        "            if (rate>=0) and (rate<=1):\n",
        "                break\n",
        "            else:\n",
        "                print('The amount must be a number betwwen 0 and 1.')\n",
        "\n",
        "    \n",
        "    print(f'For an investment of {amount}€ for {years} years at {rate*100}%, the return is {round(int_calc(amount, years, rate), 2)}€')"
      ]
    },
    {
      "cell_type": "code",
      "execution_count": 3,
      "metadata": {},
      "outputs": [
        {
          "name": "stdout",
          "output_type": "stream",
          "text": [
            "Please enter a number.\n",
            "Please enter a number.\n",
            "Please enter a number.\n",
            "The amount must be a number betwwen 0 and 1.\n",
            "The amount must be a number betwwen 0 and 1.\n",
            "For an investment of 12000.0€ for 20 years at 10.0%, the return is 80730.0€\n"
          ]
        }
      ],
      "source": [
        "start()\n"
      ]
    },
    {
      "cell_type": "code",
      "execution_count": null,
      "metadata": {},
      "outputs": [],
      "source": []
    }
  ],
  "metadata": {
    "colab": {
      "name": "Fondamentaux Python - Mini Projets S1-2B.ipynb",
      "provenance": [],
      "version": "0.3.2"
    },
    "kernelspec": {
      "display_name": "base",
      "language": "python",
      "name": "python3"
    },
    "language_info": {
      "codemirror_mode": {
        "name": "ipython",
        "version": 3
      },
      "file_extension": ".py",
      "mimetype": "text/x-python",
      "name": "python",
      "nbconvert_exporter": "python",
      "pygments_lexer": "ipython3",
      "version": "3.12.7"
    }
  },
  "nbformat": 4,
  "nbformat_minor": 0
}
