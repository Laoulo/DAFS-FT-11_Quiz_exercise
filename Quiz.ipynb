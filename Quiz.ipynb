{
 "cells": [
  {
   "cell_type": "markdown",
   "metadata": {},
   "source": [
    "# Build a quiz - Part 2"
   ]
  },
  {
   "cell_type": "markdown",
   "metadata": {},
   "source": [
    "Below is the code we wrote yesterday, that asks three questions to the user and allows up to 3 wrong answers :"
   ]
  },
  {
   "cell_type": "code",
   "execution_count": null,
   "metadata": {},
   "outputs": [],
   "source": [
    "nb_of_chances = 3\n",
    "\n",
    "print(\"here is our beautiful quiz!\")\n",
    "\n",
    "if nb_of_chances > 0:\n",
    "    question1= input(\"How many times France won the Soccer World Cup?\")\n",
    "    while question1 != \"2\":\n",
    "        nb_of_chances -= 1\n",
    "        print(\"Dang, wrong answer 😓... You still have {} chances left\".format(nb_of_chances))\n",
    "        if nb_of_chances == 0:\n",
    "            print(\"Oh no! It's game over 💥\")\n",
    "            break\n",
    "        question1 = input(\"How many times France won the Soccer World Cup?\")\n",
    "\n",
    "if nb_of_chances > 0:\n",
    "    question2 = input(\"When was Apple founded?\")\n",
    "    while question2 != \"1976\":\n",
    "        nb_of_chances -=1\n",
    "        print(\"Dang, wrong answer 😓... You still have {} chances left\".format(nb_of_chances))\n",
    "        if nb_of_chances == 0:\n",
    "            print(\"Oh no! It's game over 💥\")\n",
    "            break\n",
    "        question2 = input(\"When was Apple founded?\")\n",
    "\n",
    "\n",
    "if nb_of_chances > 0:\n",
    "    question3 = input(\"Who founded SpaceX?\")\n",
    "    question3 = question3.lower()\n",
    "    while question3 != \"elon musk\":\n",
    "        nb_of_chances -=1\n",
    "        print(\"Dang, wrong answer 😓... You still have {} chances left\".format(nb_of_chances))\n",
    "        if nb_of_chances == 0:\n",
    "            print(\"Oh no! It's game over 💥\")\n",
    "            break\n",
    "        question3 = input(\"Who founded SpaceX?\")\n",
    "        question3 = question3.lower()\n",
    "\n",
    "if nb_of_chances > 0:\n",
    "    print(\"🥳 Congratulations, you've won the quiz 🥳\")\n"
   ]
  },
  {
   "attachments": {},
   "cell_type": "markdown",
   "metadata": {},
   "source": [
    "Let's refactor our quiz now that we know how to be dry.\n",
    "\n",
    "## SPECIFICATIONS (SPECS)\n",
    "\n",
    "* Your code should be DRY \n",
    "* You should use functions "
   ]
  },
  {
   "cell_type": "markdown",
   "metadata": {},
   "source": [
    "Here we used a function \"ask_questions\" to perform the quiz."
   ]
  },
  {
   "cell_type": "code",
   "execution_count": 7,
   "metadata": {},
   "outputs": [
    {
     "name": "stdout",
     "output_type": "stream",
     "text": [
      "\n",
      "Sorry 😓 you have 2 lives left\n",
      "\n",
      "Sorry 😓 you have 1 lives left\n",
      "\n",
      "🥳 Congratulations, you won! 🥳\n"
     ]
    }
   ],
   "source": [
    "def ask_question(lives, user_answer, right_answer): # three arguments\n",
    "    if lives > 0:\n",
    "        answer = input(user_answer)\n",
    "        answer = answer.lower()\n",
    "        while answer != right_answer:\n",
    "            lives -=1\n",
    "            print(\"Sorry 😓 you have {} lives left\".format(lives))\n",
    "            if lives == 0:\n",
    "                print(\"Oh no! 💥GAME OVER💥\")\n",
    "                break\n",
    "            answer = input(user_answer)\n",
    "            answer = answer.lower()\n",
    "    print('')\n",
    "    return lives\n",
    "\n",
    "qa_list = [\n",
    "    (\"How many times France soccer team won the World Cup?\", \"2\"),\n",
    "    (\"When Apple was founded?\", \"1976\"),\n",
    "    (\"Who founded SpaceX?\", \"elon musk\")\n",
    "]\n",
    "\n",
    "nb_attempts = 3\n",
    "\n",
    "for question, answer in qa_list :\n",
    "    nb_attempts = ask_question(nb_attempts, question, answer) # calling the function\n",
    "\n",
    "if nb_attempts > 0:\n",
    "    print(\"🥳 Congratulations, you won! 🥳\")"
   ]
  },
  {
   "cell_type": "code",
   "execution_count": null,
   "metadata": {},
   "outputs": [],
   "source": []
  }
 ],
 "metadata": {
  "kernelspec": {
   "display_name": "base",
   "language": "python",
   "name": "python3"
  },
  "language_info": {
   "codemirror_mode": {
    "name": "ipython",
    "version": 3
   },
   "file_extension": ".py",
   "mimetype": "text/x-python",
   "name": "python",
   "nbconvert_exporter": "python",
   "pygments_lexer": "ipython3",
   "version": "3.12.7"
  },
  "orig_nbformat": 2
 },
 "nbformat": 4,
 "nbformat_minor": 2
}
